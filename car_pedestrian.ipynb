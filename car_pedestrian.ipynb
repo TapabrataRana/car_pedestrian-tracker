{
 "cells": [
  {
   "cell_type": "code",
   "execution_count": 2,
   "metadata": {},
   "outputs": [],
   "source": [
    "import cv2"
   ]
  },
  {
   "cell_type": "code",
   "execution_count": 8,
   "metadata": {},
   "outputs": [],
   "source": [
    "img_file = r\"C:\\Users\\Tapabrata Rana\\Car image.jpg\""
   ]
  },
  {
   "cell_type": "code",
   "execution_count": 9,
   "metadata": {},
   "outputs": [],
   "source": [
    "classifier_file = r\"C:\\Users\\Tapabrata Rana\\car_detector\\car_detector\\car_detector.xml\""
   ]
  },
  {
   "cell_type": "code",
   "execution_count": 10,
   "metadata": {},
   "outputs": [],
   "source": [
    "img = cv2.imread(img_file)"
   ]
  },
  {
   "cell_type": "code",
   "execution_count": 11,
   "metadata": {},
   "outputs": [],
   "source": [
    "black_n_white = cv2.cvtColor(img, cv2.COLOR_BGR2GRAY)"
   ]
  },
  {
   "cell_type": "code",
   "execution_count": 12,
   "metadata": {},
   "outputs": [],
   "source": [
    "car_tracker = cv2.CascadeClassifier(classifier_file)"
   ]
  },
  {
   "cell_type": "code",
   "execution_count": 13,
   "metadata": {},
   "outputs": [],
   "source": [
    "cars = car_tracker.detectMultiScale(black_n_white)"
   ]
  },
  {
   "cell_type": "code",
   "execution_count": 14,
   "metadata": {},
   "outputs": [],
   "source": [
    "for (x, y, w, h) in cars:\n",
    "    cv2.rectangle(img, (x,y), (x+w, y+h), (0,0,255), 2)"
   ]
  },
  {
   "cell_type": "code",
   "execution_count": 15,
   "metadata": {},
   "outputs": [],
   "source": [
    "cv2.imshow('Untitled4', img)"
   ]
  },
  {
   "cell_type": "code",
   "execution_count": null,
   "metadata": {},
   "outputs": [],
   "source": [
    "cv2.waitKey()"
   ]
  },
  {
   "cell_type": "markdown",
   "metadata": {},
   "source": [
    "**driving video**"
   ]
  },
  {
   "cell_type": "code",
   "execution_count": 1,
   "metadata": {},
   "outputs": [
    {
     "name": "stdout",
     "output_type": "stream",
     "text": [
      "Press \"s\" to stop\n",
      "Hey!\n"
     ]
    }
   ],
   "source": [
    "import cv2\n",
    "from random import randrange\n",
    "\n",
    "# Load the pre-trained data\n",
    "Tracker = cv2.CascadeClassifier(r\"C:\\Users\\Tapabrata Rana\\car_detector\\car_detector\\car_detector.xml\")\n",
    "\n",
    "# read the given video\n",
    "car_video = cv2.VideoCapture(r\"C:\\Users\\Tapabrata Rana\\videoplayback.mp4\")\n",
    "\n",
    "#Iterating forever over frames\n",
    "while True:\n",
    "    #read the current frame\n",
    "    frame_check,frame=car_video.read()\n",
    "    \n",
    "    #converting to B&W\n",
    "    gr_img= cv2.cvtColor(frame,cv2.COLOR_BGR2GRAY)\n",
    "    \n",
    "    # detecting the coordinates of the car\n",
    "    car_coordinates = Tracker.detectMultiScale(gr_img)\n",
    "    \n",
    "    #marking the faces\n",
    "    for (x,y,w,h) in car_coordinates:\n",
    "        cv2.rectangle(frame,(x,y),(x+w,y+h),(randrange(256),randrange(256),randrange(256)),2)\n",
    "    \n",
    "    #display the current frame\n",
    "    cv2.imshow('cars',frame)\n",
    "    key = cv2.waitKey(1)\n",
    "    \n",
    "    #stopping condition\n",
    "    if key == 83 or key== 115:\n",
    "        break\n",
    "\n",
    "# release the VideoCapture object\n",
    "car_video.release()\n",
    "    \n",
    "\n",
    "print('Press \"s\" to stop')\n",
    "\n",
    "print('Hey!')"
   ]
  },
  {
   "cell_type": "markdown",
   "metadata": {},
   "source": [
    "**driving plus pedestrian**"
   ]
  },
  {
   "cell_type": "code",
   "execution_count": null,
   "metadata": {},
   "outputs": [],
   "source": [
    "import cv2\n",
    "from random import randrange\n",
    "\n",
    "car_tracker = cv2.CascadeClassifier(r\"C:\\Users\\Tapabrata Rana\\car_detector\\car_detector\\car_detector.xml\")\n",
    "pedestrian_tracker = cv2.CascadeClassifier(r\"C:\\Users\\Tapabrata Rana\\pedestrian_tracker.xml\")\n",
    "car_pedestrian_video = cv2.VideoCapture(r\"C:\\Users\\Tapabrata Rana\\car_pedestrian.mp4\")\n",
    "\n",
    "while True:\n",
    "    frame_check,frame = car_pedestrian_video.read()\n",
    "    \n",
    "    gr_img = cv2.cvtColor(frame,cv2.COLOR_BGR2GRAY)\n",
    "    \n",
    "    car_coordinates = car_tracker.detectMultiScale(gr_img)\n",
    "    pedestrian_coordinates = pedestrian_tracker.detectMultiScale(gr_img)\n",
    "    \n",
    "    for (x,y,h,w) in car_coordinates:\n",
    "        cv2.rectangle(frame,(x,y),(x+w,y+h),(randrange(256),randrange(256),randrange(256)),2)\n",
    "        \n",
    "    for (x,y,h,w) in pedestrian_coordinates:\n",
    "        cv2.rectangle(frame,(x,y),(x+w,y+h),(randrange(256),randrange(256),randrange(256)),2)\n",
    "        \n",
    "        cv2.imshow('Untitled4',frame)\n",
    "        key=cv2.waitKey(1)\n",
    "        \n",
    "        if key == 83 or key == 115:\n",
    "            break\n",
    "            \n",
    "car_pedestrian_video.release()\n",
    "\n",
    "\n",
    "print('Press \"s\" to stop')\n",
    "\n",
    "print('Hey!')"
   ]
  },
  {
   "cell_type": "code",
   "execution_count": null,
   "metadata": {},
   "outputs": [],
   "source": []
  }
 ],
 "metadata": {
  "kernelspec": {
   "display_name": "Python 3",
   "language": "python",
   "name": "python3"
  },
  "language_info": {
   "codemirror_mode": {
    "name": "ipython",
    "version": 3
   },
   "file_extension": ".py",
   "mimetype": "text/x-python",
   "name": "python",
   "nbconvert_exporter": "python",
   "pygments_lexer": "ipython3",
   "version": "3.8.3"
  }
 },
 "nbformat": 4,
 "nbformat_minor": 4
}
